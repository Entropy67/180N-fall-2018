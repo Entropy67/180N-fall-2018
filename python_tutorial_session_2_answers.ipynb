{
 "cells": [
  {
   "cell_type": "markdown",
   "metadata": {},
   "source": [
    "(For this assignment, you'll need to structure your own answer notebook.  For each exercise, copy the heading `### Exercises - ...` into a new markdown cell in your answer notebook, and fill in the answers as appropriate.  Whenever the assignment asks you to run code in a cell \"below\", instead run it in your answer notebook.  Remember, the important thing is (1) for you to complete the exercises, and (2) for your TA to be able to see that you have by looking at your answer notebook.)"
   ]
  }
 ],
 "metadata": {
  "kernelspec": {
   "display_name": "Python 3",
   "language": "python",
   "name": "python3"
  },
  "language_info": {
   "codemirror_mode": {
    "name": "ipython",
    "version": 3
   },
   "file_extension": ".py",
   "mimetype": "text/x-python",
   "name": "python",
   "nbconvert_exporter": "python",
   "pygments_lexer": "ipython3",
   "version": "3.6.4"
  }
 },
 "nbformat": 4,
 "nbformat_minor": 2
}
