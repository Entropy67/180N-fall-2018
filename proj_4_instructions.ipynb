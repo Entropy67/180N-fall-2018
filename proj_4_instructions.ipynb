{
 "cells": [
  {
   "cell_type": "markdown",
   "metadata": {},
   "source": [
    "# Project description\n",
    "\n",
    "You will submit a Jupyter notebook containing the following sections, clearly denoted with markdown headings.  As usual, you must submit both `ipynb` and `pdf` versions of the notebook.\n",
    "\n",
    "### Abstract\n",
    "\n",
    "A general description of the problem you studied and of your results.\n",
    "\n",
    "### Physical System and Model\n",
    "\n",
    "A description of the physical system you are studying and the mathematical model being used to study it.\n",
    "\n",
    "### Algorithms\n",
    "\n",
    "A description of any algorithms you are using to solve the problem at hand, and their implementation in the context of that problem.\n",
    "\n",
    "### Code\n",
    "\n",
    "A python code cell that includes any main functions you use to obtain your results.  Note that there can be lots of other coding cells elsewhere in the notebook, but this cell takes the place of the module for this project and should be where all the core code is written.\n",
    "\n",
    "### Results\n",
    "\n",
    "A description of your numerical solution to the problem along with a discussion of how you can be confident that you can trust your results.\n",
    "\n",
    "### References\n",
    "\n",
    "All resources you use should be cited."
   ]
  },
  {
   "cell_type": "markdown",
   "metadata": {},
   "source": [
    "# Project Options (choose one)\n",
    "\n",
    "## Option 1: Precession of the perihelion of Mercury\n",
    "\n",
    "According to Newtonian gravitation, if there were only a single planet orbiting the Sun, it would orbit in an ellipse.  This is a fact we verified numerically in the first project.  The point of closest approach of such a planet is called the **perihelion** of its orbit.\n",
    "\n",
    "In our solar system, there isn't a just a single planet orbiting the sun, there are 8.  One might wonder what effect the gravitational interactions between these planets have on their orbits.  If you're an astronomer, you don't have to wonder; you can't just go out and observe the planetary orbits.  If you do this precisely enough, you'll find that Mercury's perihelion precesses -- it doesn't stay stationary but rotates at some angular velocity.\n",
    "\n",
    "Observations reveal that the total precession is about 574 arcseconds per century.  The dominant contribution to this precession, more than 90% of it, is due to the gravitational interactions with other planets.  The rest of the effect is primarily due to corrections to Newtonian gravitation from general relativity.\n",
    "\n",
    "Show, using numerical simulation, that most of Mercury's perihelion precession can be accounted for by Newtonian gravitational interactions with the other planets.  You may find the following paper useful, but you may consult any resources you find useful as long as you cite them:\n",
    "\n",
    "[Nonrelativistic contribution to Mercury’s perihelion precession](https://aapt.scitation.org/doi/10.1119/1.11779)\n",
    "\n",
    "If you're familiar with general relativity, you might try to also take on the challenge of showing numerically that including general relativistic effects allows one to account for the remainder of the precession not accounted for by Newtonian gravitation.\n",
    "\n",
    "## Option 2: Statistical mechanics of the quantum harmonic oscillator using path integral MCMC\n",
    "\n",
    "When the quantum harmonic oscillator is put into contact with a heat bath at absolute temperature $T$, there is some probability $p_n(T)$ that the system will occupy each of its energy eigenstates proportional to the Boltzmann factor associated with that state.  This can be used to determine an expression for the average energy the system will have in equilibrium:\n",
    "\n",
    "\\begin{align}\n",
    "    \\langle E\\rangle = \\sum_{n=0}^\\infty p_n E_n\n",
    "\\end{align}\n",
    "\n",
    "We have already seen one way to numerically determine $E(T)$ using MCMC in the case of the Ising model: we can generate a sequence of the system's states using Metropolis-Hastings and use this sequence of states to compute an approximation to the ensemble average value of any observable we desire such as the equilibrium average energy.\n",
    "\n",
    "However, it turns out that there is another way to do this using Feynman's path integral formulation of quantum mechanics and MCMC -- so-called **path integral monte carlo**.\n",
    "\n",
    "Comupute and plot $\\langle E\\rangle$ versus $T$ for the quantum harmonic oscillator analytically first by simply performing the sum over states written above (or some equivalent procedure you might be familiar with from stat mech), then do the same using path integral monte carlo.  Make sure your results agree reasonably well.  You may find the following papers useful, but you may consult any resources you find useful as long as you cite them:\n",
    "\n",
    "[The harmonic oscillator at finite temperature using path integrals](https://aapt.scitation.org/doi/abs/10.1119/1.15737), Larsen, Ravndal\n",
    "[Path integral for the quantum harmonic oscillator using elementary methods](https://aapt.scitation.org/doi/abs/10.1119/1.18896), Cohen\n",
    "\n",
    "## Option 3: Numerical simulation of heat conduction\n",
    "\n",
    "Heat conduction can be modeled by the so-called **heat equation** (aka the diffusion equation).  Using numerical methods described in the following paper, simulate the heat equation and thus reproduce figures 2 and 3 in the paper:\n",
    "\n",
    "[Numerical Solution to Transient Heat Flow Problems](https://aapt.scitation.org/doi/abs/10.1119/1.1987281), Kobiske, Hock\n",
    "\n",
    "You are encouraged to explore more heat conduction problems numerically using these techniques if you wish.  You may use any other resources you wish as long as you cite them.\n",
    "\n",
    "## Option 4: Build your own\n",
    "\n",
    "You may find an interesting physics problem that lends itself to numerical solution that you'd like to solve and build your own project on that problem.  If you want to do this, you must run you idea by Josh for approval by Monday of the last week of class."
   ]
  }
 ],
 "metadata": {
  "kernelspec": {
   "display_name": "Python 3",
   "language": "python",
   "name": "python3"
  },
  "language_info": {
   "codemirror_mode": {
    "name": "ipython",
    "version": 3
   },
   "file_extension": ".py",
   "mimetype": "text/x-python",
   "name": "python",
   "nbconvert_exporter": "python",
   "pygments_lexer": "ipython3",
   "version": "3.6.4"
  }
 },
 "nbformat": 4,
 "nbformat_minor": 2
}
