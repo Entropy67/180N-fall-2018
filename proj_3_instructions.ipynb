# Write a Jupyter notebook that explores and describes the physics of the 2d Ising simulation

Your notebook should apply the function `two-dim-ising` to investigate the physics of the 2d Ising model on a periodic lattice.  In particular, you should:

### (1)Time series of energy and magnetization

Energy and magnetization are extensive quantities, which depend on the system size.

Therefore, you should really caculate "Energy per site (e)" and "Magnetization per site (m)", defined as follows:

$$ e=\frac{\text{Total energy}}{\text{numbers of sites}} $$

$$ m =\frac{N_{up}-N_{down}}{N_{up}+N_{down}}$$

For larger system size, the Monte Carlo simulation needs to run longer steps, to reach equilibrium.

In order to make the benchmarking a fair game.

The "updating step per site" is defined as follows:

$$ t=\frac{\text{Total updates}}{\text{numbers of sites}}
$$


#### [What to Plot?]

Choose your system size, and temperature. Run the simulation. 

Then plot Energy per site  e=e(t) and  Magnetization per site m=m(t) as a function of "updating step per site" (t).



#### [Answer the question] 
how many (t) steps do you need, in order to reach equilibrium?


### (2)Magnetization curve for different lattice size

The exact magnetization per site (in the limit of infinite system size)  is given by Onsager's theoretical result:

$$
m(T)=0  \qquad   \text{ if  } \quad T>T_c
$$

$$
m(T)=[1-\sinh^{-4}(\frac{2}{T})]^{\frac{1}{8}}  \qquad   \text{ if  } \quad T\leq T_c
$$

$$
T_c=\frac{2}{\ln(1+\sqrt{2})} \approx 2.27
$$


#### [What to Plot?]

Please choose your system size as:  8x8, 16x16, 32x32, 64x64

For each of the size, you should have a m=m(T) curve.

Then draw these 4 curves, together with the exact curve, **in the same plot.**


##### [attentions]
This is a computationally expensive calculation.

There are 4 curves for different system sizes.

Each curve is made of many dots. (you decide the spacing of temperatures)

Each dot, is an averaged absolute value magnetization per site.


#### [Answer the question] 

What happens to the m=m(T) curve, when you increase the system size?

How can you locate the critical T, if the exact value are not given?


### (3)Typical spin configuration at different temperatures

Choose your system size to be 256x256.

Make sure run your simulation enough time steps, until the system is in equilibrium.

#### [What to Plot?]

Plot three pictures of spin configuration, at temperature T=1.8, T=2.3, T=4.0

#### [Answer the question]

What does those pattern mean to the physical system?
