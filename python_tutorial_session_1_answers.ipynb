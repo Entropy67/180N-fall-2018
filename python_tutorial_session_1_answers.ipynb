{
 "cells": [
  {
   "cell_type": "markdown",
   "metadata": {},
   "source": [
    "### Answers - changing the character of a cell / evaluating a cell\n",
    "\n",
    "Create your new cell(s) below this one."
   ]
  },
  {
   "cell_type": "markdown",
   "metadata": {},
   "source": [
    "### Answers - a little practice with help in Jupyter\n",
    "\n",
    "Create your new cell(s) below this one."
   ]
  },
  {
   "cell_type": "markdown",
   "metadata": {},
   "source": [
    "#### Written answer\n",
    "\n",
    "Type your answer(s) here."
   ]
  },
  {
   "cell_type": "markdown",
   "metadata": {},
   "source": [
    "### Answers - a little practice with tab completion\n",
    "\n",
    "Create your new cell(s) below this one."
   ]
  },
  {
   "cell_type": "markdown",
   "metadata": {},
   "source": [
    "### Answers - a little practice with magic functions\n",
    "\n",
    "Create your new cell(s) below this one."
   ]
  },
  {
   "cell_type": "markdown",
   "metadata": {},
   "source": [
    "### Answers - the infamous \"Hello World\" program\n",
    "\n",
    "Create your new cell(s) below this one."
   ]
  },
  {
   "cell_type": "markdown",
   "metadata": {},
   "source": [
    "### Answers - types of numbers\n",
    "\n",
    "Create your new cell(s) below this one."
   ]
  },
  {
   "cell_type": "markdown",
   "metadata": {},
   "source": [
    "#### Written answer\n",
    "\n",
    "Type your answer(s) below:\n",
    "\n",
    "1. No answer needed -- just observe behavior of code.\n",
    "2. Write your answer for each case:\n",
    "    1. \n",
    "    2. \n",
    "    3. "
   ]
  },
  {
   "cell_type": "markdown",
   "metadata": {},
   "source": [
    "### Answers - results of basic arithmetical operations\n",
    "\n",
    "Create your new cell(s) below this one."
   ]
  },
  {
   "cell_type": "markdown",
   "metadata": {},
   "source": [
    "### Answers - data type predictions\n",
    "\n",
    "Type your answer(s) below:\n",
    "\n",
    "1. \n",
    "2. \n",
    "3. \n",
    "4. "
   ]
  },
  {
   "cell_type": "markdown",
   "metadata": {},
   "source": [
    "### Answers - different kinds of division\n",
    "\n",
    "Type your answer(s) below:\n",
    "\n",
    "1. \n",
    "2. Write your predictions, then comment on whether or not they were correct in each case:\n",
    "    1. \n",
    "    2. \n",
    "    3. \n",
    "    4. "
   ]
  },
  {
   "cell_type": "markdown",
   "metadata": {},
   "source": [
    "### Answers - more computations"
   ]
  },
  {
   "cell_type": "markdown",
   "metadata": {},
   "source": [
    "#### Written answers - Predictions\n",
    "\n",
    "Type list of predictions here.\n",
    "\n",
    "1. \n",
    "2. \n",
    "3. \n",
    "4. \n",
    "5. \n",
    "6. \n",
    "7. \n",
    "8. \n",
    "9. \n",
    "10. "
   ]
  },
  {
   "cell_type": "markdown",
   "metadata": {},
   "source": [
    "#### Answers in cells\n",
    "\n",
    "Create your new cell(s) below this one."
   ]
  },
  {
   "cell_type": "markdown",
   "metadata": {},
   "source": [
    "### Answers - Starting out with variables\n",
    "\n",
    "Create your new cell(s) below this one."
   ]
  },
  {
   "cell_type": "markdown",
   "metadata": {},
   "source": [
    "### Answers - predicting outcomes of programs with control flow statements\n",
    "\n",
    "Create your new cell(s) below this one."
   ]
  },
  {
   "cell_type": "markdown",
   "metadata": {},
   "source": [
    "### Answers - writing simple programs with control flow statements\n",
    "\n",
    "Create your new cell(s) below this one."
   ]
  },
  {
   "cell_type": "markdown",
   "metadata": {},
   "source": [
    "### Answers  - predicting outcomes of programs that contain loops\n",
    "\n",
    "Type out precisely what you think the output of each code block above will be exactly as it will appear when the block is run in its own cell:\n",
    "\n",
    "#### Block 1\n",
    "\n",
    "    Predicted first line of output\n",
    "    Predicted second line of output\n",
    "    ...\n",
    "\n",
    "#### Block 2\n",
    "\n",
    "    Predicted first line of output\n",
    "    Predicted second line of output\n",
    "    ...\n",
    "\n",
    "#### Block 3\n",
    "\n",
    "    Predicted first line of output\n",
    "    Predicted second line of output\n",
    "    ...\n",
    "\n",
    "#### Block 4\n",
    "\n",
    "    Predicted first line of output\n",
    "    Predicted second line of output\n",
    "    ...\n",
    "\n",
    "#### Block 5\n",
    "\n",
    "    Predicted first line of output\n",
    "    Predicted second line of output\n",
    "    ..."
   ]
  },
  {
   "cell_type": "markdown",
   "metadata": {},
   "source": [
    "### Answers - writing programs that repeat using loops\n",
    "\n",
    "Create your new cell(s) below this one."
   ]
  },
  {
   "cell_type": "markdown",
   "metadata": {},
   "source": [
    "### Answers - predicting the behaviors of functions with keyword arguments\n",
    "\n",
    "Type out precisely what you think the output of each line above will be exactly as it will appear when the line is run in its own cell:\n",
    "\n",
    "#### Line 1\n",
    "\n",
    "    Predicted output\n",
    "\n",
    "#### Line 2\n",
    "\n",
    "    Predicted output\n",
    "\n",
    "#### Line 3\n",
    "\n",
    "    Predicted output"
   ]
  },
  {
   "cell_type": "markdown",
   "metadata": {},
   "source": [
    "#### Answers in cells\n",
    "\n",
    "Create your new cell(s) below this one."
   ]
  },
  {
   "cell_type": "markdown",
   "metadata": {},
   "source": [
    "### Answers -- writing functions\n",
    "\n",
    "Create your new cell(s) below this one."
   ]
  }
 ],
 "metadata": {
  "kernelspec": {
   "display_name": "Python 3",
   "language": "python",
   "name": "python3"
  },
  "language_info": {
   "codemirror_mode": {
    "name": "ipython",
    "version": 3
   },
   "file_extension": ".py",
   "mimetype": "text/x-python",
   "name": "python",
   "nbconvert_exporter": "python",
   "pygments_lexer": "ipython3",
   "version": "3.6.4"
  }
 },
 "nbformat": 4,
 "nbformat_minor": 2
}
